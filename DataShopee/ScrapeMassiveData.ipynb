{
 "cells": [
  {
   "cell_type": "code",
   "execution_count": 2,
   "metadata": {},
   "outputs": [],
   "source": [
    "import requests\n",
    "import json\n",
    "import pandas as pd\n",
    "from seleniumwire import webdriver\n",
    "from seleniumwire.utils import decode\n",
    "import time"
   ]
  },
  {
   "cell_type": "code",
   "execution_count": 3,
   "metadata": {},
   "outputs": [],
   "source": [
    "def scrape(url, i) :     \n",
    "    api_url = 'https://shopee.co.id/api/v4/recommend/recommend?bundle=shop_page_category_tab'\n",
    "    driver = webdriver.Chrome()\n",
    "    driver.get(url)\n",
    "    for request in driver.requests:\n",
    "        if request.response:\n",
    "            if request.url.startswith(api_url):\n",
    "                response = request.response\n",
    "                body = decode(response.body, response.headers.get('Content-Encoding', 'Identity'))\n",
    "                decoded_body = body.decode('utf8')\n",
    "                json_data = json.loads(decoded_body)\n",
    "                \n",
    "                with open(f'shopee_gramedia_raw_{i}.json', 'w') as f:\n",
    "                    json.dump(json_data, f, indent=2 )"
   ]
  },
  {
   "cell_type": "code",
   "execution_count": 8,
   "metadata": {},
   "outputs": [],
   "source": [
    "for i in range(40, 49) :\n",
    "    url = f'https://shopee.co.id/gramediaofficial?page={i}&sortBy=pop'\n",
    "    scrape(url, i)"
   ]
  },
  {
   "cell_type": "code",
   "execution_count": 13,
   "metadata": {},
   "outputs": [],
   "source": [
    "url = f'https://shopee.co.id/gramediaofficial?page=8&sortBy=pop'\n",
    "scrape(url, 8)"
   ]
  },
  {
   "cell_type": "code",
   "execution_count": null,
   "metadata": {},
   "outputs": [],
   "source": [
    "i"
   ]
  }
 ],
 "metadata": {
  "kernelspec": {
   "display_name": "Python 3",
   "language": "python",
   "name": "python3"
  },
  "language_info": {
   "codemirror_mode": {
    "name": "ipython",
    "version": 3
   },
   "file_extension": ".py",
   "mimetype": "text/x-python",
   "name": "python",
   "nbconvert_exporter": "python",
   "pygments_lexer": "ipython3",
   "version": "3.9.6 (tags/v3.9.6:db3ff76, Jun 28 2021, 15:26:21) [MSC v.1929 64 bit (AMD64)]"
  },
  "orig_nbformat": 4,
  "vscode": {
   "interpreter": {
    "hash": "b3f2160f3f52713d4ebad596f3c03d3c4de6d192c15340d0603df4b9e42f3007"
   }
  }
 },
 "nbformat": 4,
 "nbformat_minor": 2
}
